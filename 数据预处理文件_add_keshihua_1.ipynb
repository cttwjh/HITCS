{
  "cells": [
    {
      "cell_type": "markdown",
      "metadata": {
        "id": "view-in-github",
        "colab_type": "text"
      },
      "source": [
        "<a href=\"https://colab.research.google.com/github/cttwjh/HITCS/blob/main/%E6%95%B0%E6%8D%AE%E9%A2%84%E5%A4%84%E7%90%86%E6%96%87%E4%BB%B6_add_keshihua_1.ipynb\" target=\"_parent\"><img src=\"https://colab.research.google.com/assets/colab-badge.svg\" alt=\"Open In Colab\"/></a>"
      ]
    },
    {
      "cell_type": "code",
      "source": [
        "from google.colab import drive\n",
        "drive.mount('/content/drive')"
      ],
      "metadata": {
        "colab": {
          "base_uri": "https://localhost:8080/"
        },
        "id": "1ISLxp4PZ06N",
        "outputId": "6aeb74f2-527b-4003-d505-90d4a444a06d"
      },
      "id": "1ISLxp4PZ06N",
      "execution_count": null,
      "outputs": [
        {
          "output_type": "stream",
          "name": "stdout",
          "text": [
            "Mounted at /content/drive\n"
          ]
        }
      ]
    },
    {
      "cell_type": "code",
      "source": [
        "!pip  install Bio"
      ],
      "metadata": {
        "colab": {
          "base_uri": "https://localhost:8080/"
        },
        "id": "fimK9NaAZ-Pl",
        "outputId": "91f7f767-df13-4055-999a-8f7680a7ae7f"
      },
      "id": "fimK9NaAZ-Pl",
      "execution_count": null,
      "outputs": [
        {
          "output_type": "stream",
          "name": "stdout",
          "text": [
            "Collecting Bio\n",
            "  Downloading bio-1.6.2-py3-none-any.whl (278 kB)\n",
            "\u001b[2K     \u001b[90m━━━━━━━━━━━━━━━━━━━━━━━━━━━━━━━━━━━━━━━━\u001b[0m \u001b[32m278.6/278.6 kB\u001b[0m \u001b[31m6.2 MB/s\u001b[0m eta \u001b[36m0:00:00\u001b[0m\n",
            "\u001b[?25hCollecting biopython>=1.80 (from Bio)\n",
            "  Downloading biopython-1.83-cp310-cp310-manylinux_2_17_x86_64.manylinux2014_x86_64.whl (3.1 MB)\n",
            "\u001b[2K     \u001b[90m━━━━━━━━━━━━━━━━━━━━━━━━━━━━━━━━━━━━━━━━\u001b[0m \u001b[32m3.1/3.1 MB\u001b[0m \u001b[31m63.7 MB/s\u001b[0m eta \u001b[36m0:00:00\u001b[0m\n",
            "\u001b[?25hRequirement already satisfied: requests in /usr/local/lib/python3.10/dist-packages (from Bio) (2.31.0)\n",
            "Requirement already satisfied: tqdm in /usr/local/lib/python3.10/dist-packages (from Bio) (4.66.2)\n",
            "Collecting mygene (from Bio)\n",
            "  Downloading mygene-3.2.2-py2.py3-none-any.whl (5.4 kB)\n",
            "Requirement already satisfied: pandas in /usr/local/lib/python3.10/dist-packages (from Bio) (1.5.3)\n",
            "Requirement already satisfied: pooch in /usr/local/lib/python3.10/dist-packages (from Bio) (1.8.1)\n",
            "Collecting gprofiler-official (from Bio)\n",
            "  Downloading gprofiler_official-1.0.0-py3-none-any.whl (9.3 kB)\n",
            "Requirement already satisfied: numpy in /usr/local/lib/python3.10/dist-packages (from biopython>=1.80->Bio) (1.25.2)\n",
            "Collecting biothings-client>=0.2.6 (from mygene->Bio)\n",
            "  Downloading biothings_client-0.3.1-py2.py3-none-any.whl (29 kB)\n",
            "Requirement already satisfied: python-dateutil>=2.8.1 in /usr/local/lib/python3.10/dist-packages (from pandas->Bio) (2.8.2)\n",
            "Requirement already satisfied: pytz>=2020.1 in /usr/local/lib/python3.10/dist-packages (from pandas->Bio) (2023.4)\n",
            "Requirement already satisfied: platformdirs>=2.5.0 in /usr/local/lib/python3.10/dist-packages (from pooch->Bio) (4.2.0)\n",
            "Requirement already satisfied: packaging>=20.0 in /usr/local/lib/python3.10/dist-packages (from pooch->Bio) (24.0)\n",
            "Requirement already satisfied: charset-normalizer<4,>=2 in /usr/local/lib/python3.10/dist-packages (from requests->Bio) (3.3.2)\n",
            "Requirement already satisfied: idna<4,>=2.5 in /usr/local/lib/python3.10/dist-packages (from requests->Bio) (3.6)\n",
            "Requirement already satisfied: urllib3<3,>=1.21.1 in /usr/local/lib/python3.10/dist-packages (from requests->Bio) (2.0.7)\n",
            "Requirement already satisfied: certifi>=2017.4.17 in /usr/local/lib/python3.10/dist-packages (from requests->Bio) (2024.2.2)\n",
            "Requirement already satisfied: six>=1.5 in /usr/local/lib/python3.10/dist-packages (from python-dateutil>=2.8.1->pandas->Bio) (1.16.0)\n",
            "Installing collected packages: biopython, gprofiler-official, biothings-client, mygene, Bio\n",
            "Successfully installed Bio-1.6.2 biopython-1.83 biothings-client-0.3.1 gprofiler-official-1.0.0 mygene-3.2.2\n"
          ]
        }
      ]
    },
    {
      "cell_type": "code",
      "source": [
        "import os\n",
        "import re\n",
        "import random\n",
        "import numpy as np\n",
        "import matplotlib.pyplot as plt\n",
        "from Bio import SeqIO\n",
        "from itertools import product\n",
        "# 第一步:筛除长度小于200个碱基的转录本序列\n",
        "def filter_sequences(input_file, output_file, min_length=200):\n",
        "    \"\"\"\n",
        "    筛除长度小于min_length的转录本序列,并保存到output_file中\n",
        "    \"\"\"\n",
        "    with open(output_file, \"w\") as out_handle:\n",
        "        for record in SeqIO.parse(input_file, \"fasta\"):\n",
        "            if len(record.seq) >= min_length:\n",
        "                SeqIO.write(record, out_handle, \"fasta\")\n",
        "# 第二步:对mRNA序列进行筛选和预处理\n",
        "def preprocess_mrna(input_file, output_file):\n",
        "    \"\"\"\n",
        "    选出注释有\"mRNA\"的转录本序列,删除注释有\"putative\",\"predicted\",\"pseudogene\"的mRNA转录本序列\n",
        "    将碱基\"U\"全部替换为\"T\",并将混合碱基全部替换为未知碱基\"N\"\n",
        "    \"\"\"\n",
        "    with open(output_file, \"w\") as out_handle:\n",
        "        for record in SeqIO.parse(input_file, \"fasta\"):\n",
        "            if \"mRNA\" in record.description and not any(\n",
        "                keyword in record.description\n",
        "                for keyword in [\"putative\", \"predicted\", \"pseudogene\"]\n",
        "            ):\n",
        "                record.seq = str(record.seq).upper().replace(\"U\", \"T\")\n",
        "                record.seq = re.sub(r\"[^ATCGN]\", \"N\", str(record.seq))\n",
        "                SeqIO.write(record, out_handle, \"fasta\")\n",
        "# 第三步:为lncRNA和mRNA序列添加标签\n",
        "def add_labels(lncrna_file, mrna_file, output_file):\n",
        "    \"\"\"\n",
        "    将lncRNA转录本序列视为正类样本集,用标签\"0\"来表示;mRNA转录本序列为负类样本集,用标签\"1\"来表示\n",
        "    将两个数据集合并并保存到output_file中\n",
        "    \"\"\"\n",
        "    with open(output_file, \"w\") as out_handle:\n",
        "        for record in SeqIO.parse(lncrna_file, \"fasta\"):\n",
        "            record.description += \" label=0\"\n",
        "            SeqIO.write(record, out_handle, \"fasta\")\n",
        "        for record in SeqIO.parse(mrna_file, \"fasta\"):\n",
        "            record.description += \" label=1\"\n",
        "            SeqIO.write(record, out_handle, \"fasta\")\n",
        "# 可选:对lncRNA和mRNA序列进行下采样,使两者数量平衡\n",
        "def downsample_sequences(input_file, output_file):\n",
        "    \"\"\"\n",
        "    对lncRNA和mRNA序列进行下采样,使两者数量平衡\n",
        "    \"\"\"\n",
        "    lncrna_records = []\n",
        "    mrna_records = []\n",
        "    for record in SeqIO.parse(input_file, \"fasta\"):\n",
        "        if \"label=0\" in record.description:\n",
        "            lncrna_records.append(record)\n",
        "        else:\n",
        "            mrna_records.append(record)\n",
        "    min_count = min(len(lncrna_records), len(mrna_records))\n",
        "    lncrna_records = random.sample(lncrna_records, min_count)\n",
        "    mrna_records = random.sample(mrna_records, min_count)\n",
        "    with open(output_file, \"w\") as out_handle:\n",
        "        for record in lncrna_records + mrna_records:\n",
        "            SeqIO.write(record, out_handle, \"fasta\")\n",
        "# 可选:对平衡后的数据集进行抽样,抽取10%的数据\n",
        "def subsample_sequences(input_file, output_file, subsample_ratio=0.1):\n",
        "    \"\"\"\n",
        "    对平衡后的数据集进行抽样,抽取subsample_ratio的数据\n",
        "    \"\"\"\n",
        "    records = list(SeqIO.parse(input_file, \"fasta\"))\n",
        "    subsample_count = int(len(records) * subsample_ratio)\n",
        "    subsample_records = random.sample(records, subsample_count)\n",
        "    with open(output_file, \"w\") as out_handle:\n",
        "        for record in subsample_records:\n",
        "            SeqIO.write(record, out_handle, \"fasta\")\n",
        "\n",
        "# 第四步:计算k-mer使用频率和ORF长度\n",
        "def calculate_features(input_file, k_values=[1, 2, 3, 4, 5, 6]):\n",
        "    \"\"\"\n",
        "    计算每条转录本序列的k-mer使用频率和ORF长度,并构建特征向量\n",
        "    返回特征矩阵X和标签向量y,其中k-mer频率的特征向量大小为1×5460,ORF长度特征向量大小为1×1,总的输入特征向量大小为1×5461\n",
        "    \"\"\"\n",
        "    X = []\n",
        "    y = []\n",
        "    orf_lengths = []\n",
        "    # 生成所有可能的k-mer\n",
        "    kmers = []\n",
        "    for k in k_values:\n",
        "        kmers.extend([\"\".join(kmer) for kmer in product(\"ATCG\", repeat=k)])\n",
        "    for record in SeqIO.parse(input_file, \"fasta\"):\n",
        "        sequence = str(record.seq)\n",
        "        seq_length = len(sequence)\n",
        "        # 计算k-mer使用频率\n",
        "        k_mer_freqs = []\n",
        "        for kmer in kmers:\n",
        "            k = len(kmer)\n",
        "            count = sequence.count(kmer)\n",
        "            w_k = 1 / (4 ** (6 - k))\n",
        "            freq = count / (seq_length - k + 1) * w_k\n",
        "            k_mer_freqs.append(freq)\n",
        "        # 计算ORF长度\n",
        "        start_codons = [\"ATG\"]\n",
        "        stop_codons = [\"TAA\", \"TAG\", \"TGA\"]\n",
        "        max_orf_length = 0\n",
        "        for frame in range(3):\n",
        "            start_positions = []\n",
        "            for i in range(frame, seq_length, 3):\n",
        "                codon = sequence[i : i + 3]\n",
        "                if codon in start_codons:\n",
        "                    start_positions.append(i)\n",
        "            for start_pos in start_positions:\n",
        "                for i in range(start_pos, seq_length, 3):\n",
        "                    codon = sequence[i : i + 3]\n",
        "                    if codon in stop_codons:\n",
        "                        orf_length = i - start_pos + 3\n",
        "                        max_orf_length = max(max_orf_length, orf_length)\n",
        "                        break\n",
        "        orf_lengths.append(max_orf_length)\n",
        "        max_orf_length = np.log10(max_orf_length) if max_orf_length > 0 else 0\n",
        "        # 特征向量\n",
        "        features = k_mer_freqs + [max_orf_length]\n",
        "        X.append(features)\n",
        "        # 标签\n",
        "        if \"label=0\" in record.description:\n",
        "            y.append(0)\n",
        "        else:\n",
        "            y.append(1)\n",
        "    # 归一化ORF长度\n",
        "    orf_lengths = np.log10(np.array(orf_lengths) + 1)  # 加1避免log10(0)\n",
        "    orf_lengths = (orf_lengths - orf_lengths.min()) / (orf_lengths.max() - orf_lengths.min() + 1e-8)  # 加1e-8避免除以0\n",
        "    X = np.array(X)\n",
        "    X[:, -1] = orf_lengths\n",
        "    return X, np.array(y)\n",
        "\n",
        "\n"
      ],
      "metadata": {
        "id": "7cjeGmqyUVWG"
      },
      "id": "7cjeGmqyUVWG",
      "execution_count": null,
      "outputs": []
    },
    {
      "cell_type": "code",
      "source": [],
      "metadata": {
        "id": "oDx7hUdBUuB7"
      },
      "execution_count": null,
      "outputs": [],
      "id": "oDx7hUdBUuB7"
    },
    {
      "cell_type": "markdown",
      "source": [
        "# 可视化"
      ],
      "metadata": {
        "id": "jxt6jNdiUy5H"
      },
      "id": "jxt6jNdiUy5H"
    },
    {
      "cell_type": "code",
      "source": [
        "# 老的可视化:绘制ORF长度和k-mer使用频率分布图\n",
        "def visualize_features(X, y, k_values=[1, 2, 3, 4, 5, 6]):\n",
        "    \"\"\"\n",
        "    可视化ORF长度和k-mer使用频率分布图\n",
        "    \"\"\"\n",
        "    plt.figure(figsize=(12, 4))\n",
        "    # 绘制ORF长度分布图\n",
        "    plt.subplot(1, 2, 1)\n",
        "    plt.hist(X[y == 0, -1], bins=50, alpha=0.5, label=\"lncRNA\", color=\"blue\")\n",
        "    plt.hist(X[y == 1, -1], bins=50, alpha=0.5, label=\"mRNA\", color=\"red\")\n",
        "    plt.xlabel(\"Normalized ORF Length\")\n",
        "    plt.ylabel(\"Frequency\")\n",
        "    plt.legend()\n",
        "    plt.title(\"ORF Length Distribution\")\n",
        "    # 绘制k-mer使用频率分布图\n",
        "    plt.subplot(1, 2, 2)\n",
        "    for i, k in enumerate(k_values):\n",
        "        start = sum(4 ** j for j in range(k - 1))\n",
        "        end = start + 4 ** (k - 1)\n",
        "        plt.hist(X[y == 0, start:end].mean(axis=1), bins=50, alpha=0.5, label=f\"lncRNA (k={k})\", color=\"blue\")\n",
        "        plt.hist(X[y == 1, start:end].mean(axis=1), bins=50, alpha=0.5, label=f\"mRNA (k={k})\", color=\"red\")\n",
        "    plt.xlabel(\"k-mer Frequency\")\n",
        "    plt.ylabel(\"Frequency\")\n",
        "    plt.legend()\n",
        "    plt.title(\"k-mer Frequency Distribution\")\n",
        "    plt.tight_layout()\n",
        "    plt.show()\n",
        "\n",
        "import seaborn as sns\n",
        "import matplotlib.pyplot as plt\n",
        "\n",
        "def visualize_features(X, y):\n",
        "    # 将特征矩阵X拆分为k-mer使用频率和ORF长度两个特征\n",
        "    k_mer_freqs = X[:, :-1]\n",
        "    orf_lengths = X[:, -1]\n",
        "\n",
        "    # 创建一个DataFrame,包含特征和标签信息\n",
        "    df = pd.DataFrame({\n",
        "        'k-mer_frequency': k_mer_freqs.mean(axis=1),\n",
        "        'ORF_length': orf_lengths,\n",
        "        'RNA_type': ['lncRNA' if label == 0 else 'mRNA' for label in y]\n",
        "    })\n",
        "\n",
        "    # 绘制箱线图\n",
        "    fig, axes = plt.subplots(1, 2, figsize=(12, 6))\n",
        "    sns.boxplot(x='RNA_type', y='k-mer_frequency', data=df, ax=axes[0])\n",
        "    sns.boxplot(x='RNA_type', y='ORF_length', data=df, ax=axes[1])\n",
        "    axes[0].set_title('K-mer Frequency')\n",
        "    axes[1].set_title('ORF Length')\n",
        "    plt.tight_layout()\n",
        "    plt.show()\n",
        "\n",
        "    # 绘制小提琴图\n",
        "    fig, axes = plt.subplots(1, 2, figsize=(12, 6))\n",
        "    sns.violinplot(x='RNA_type', y='k-mer_frequency', data=df, ax=axes[0])\n",
        "    sns.violinplot(x='RNA_type', y='ORF_length', data=df, ax=axes[1])\n",
        "    axes[0].set_title('K-mer Frequency')\n",
        "    axes[1].set_title('ORF Length')\n",
        "    plt.tight_layout()\n",
        "    plt.show()\n",
        "\n",
        "    # 绘制散点图\n",
        "    sns.scatterplot(x='k-mer_frequency', y='ORF_length', hue='RNA_type', data=df)\n",
        "    plt.title('K-mer Frequency vs. ORF Length')\n",
        "    plt.show()\n",
        "\n",
        "    # 绘制相关性图\n",
        "    sns.jointplot(x='k-mer_frequency', y='ORF_length', kind='scatter', hue='RNA_type', data=df)\n",
        "    plt.show()\n",
        "\n",
        "\n",
        "\n",
        "# 第六步:保存特征和标签到文件\n",
        "def save_features(X, y, output_file):\n",
        "    \"\"\"\n",
        "    将特征X和标签y保存到output_file中\n",
        "    \"\"\"\n",
        "    np.savez(output_file, X=X, y=y)\n",
        "# 主函数\n",
        "def main():\n",
        "    # 输入文件路径\n",
        "    lncrna_file = \"/content/drive/MyDrive/gencode.v38.lncRNA_transcripts.faa\"\n",
        "    mrna_file = \"/content/drive/MyDrive/human.14.rna.fna\"\n",
        "    # 中间文件路径\n",
        "    filtered_lncrna_file = \"filtered_lncrna.fasta\"\n",
        "    filtered_mrna_file = \"filtered_mrna.fasta\"\n",
        "    preprocessed_mrna_file = \"preprocessed_mrna.fasta\"\n",
        "    labeled_file = \"labeled_sequences.fasta\"\n",
        "    balanced_file = \"balanced_sequences.fasta\"\n",
        "    subsampled_file = \"subsampled_sequences.fasta\"\n",
        "    # 输出文件路径\n",
        "    output_file = \"features.npz\"\n",
        "    # 第一步:筛除长度小于200个碱基的转录本序列\n",
        "    filter_sequences(lncrna_file, filtered_lncrna_file)\n",
        "    filter_sequences(mrna_file, filtered_mrna_file)\n",
        "    # 第二步:对mRNA序列进行筛选和预处理\n",
        "    preprocess_mrna(filtered_mrna_file, preprocessed_mrna_file)\n",
        "    # 第三步:为lncRNA和mRNA序列添加标签\n",
        "    add_labels(filtered_lncrna_file, preprocessed_mrna_file, labeled_file)\n",
        "    # 可选:对lncRNA和mRNA序列进行下采样,使两者数量平衡\n",
        "    downsample_sequences(labeled_file, balanced_file)\n",
        "    # 可选:对平衡后的数据集进行抽样,抽取10%的数据\n",
        "    subsample_sequences(balanced_file, subsampled_file)\n",
        "    # 第四步:计算k-mer使用频率和ORF长度\n",
        "    X, y = calculate_features(subsampled_file)\n",
        "    # 可视化:绘制ORF长度和k-mer使用频率分布图\n",
        "    visualize_features(X, y)\n",
        "    # 第六步:保存特征和标签到文件\n",
        "    save_features(X, y, output_file)\n",
        "if __name__ == \"__main__\":\n",
        "    main()"
      ],
      "metadata": {
        "id": "8KlgDGJoUwf9"
      },
      "id": "8KlgDGJoUwf9",
      "execution_count": null,
      "outputs": []
    },
    {
      "cell_type": "code",
      "source": [],
      "metadata": {
        "id": "mt28WPj9U7DQ"
      },
      "id": "mt28WPj9U7DQ",
      "execution_count": null,
      "outputs": []
    },
    {
      "cell_type": "markdown",
      "source": [
        "# 函数"
      ],
      "metadata": {
        "id": "ntwAeckJanJm"
      },
      "id": "ntwAeckJanJm"
    },
    {
      "cell_type": "code",
      "execution_count": null,
      "id": "3eed0c4c",
      "metadata": {
        "colab": {
          "base_uri": "https://localhost:8080/",
          "height": 364
        },
        "id": "3eed0c4c",
        "outputId": "edbfb25f-fffd-44fb-c24d-d76e4c20c666"
      },
      "outputs": [
        {
          "output_type": "error",
          "ename": "FileNotFoundError",
          "evalue": "[Errno 2] No such file or directory: '/content/drive/MyDrive/gencode.v38.lncRNA_transcripts.faa'",
          "traceback": [
            "\u001b[0;31m---------------------------------------------------------------------------\u001b[0m",
            "\u001b[0;31mFileNotFoundError\u001b[0m                         Traceback (most recent call last)",
            "\u001b[0;32m<ipython-input-7-311c367f9a3c>\u001b[0m in \u001b[0;36m<cell line: 38>\u001b[0;34m()\u001b[0m\n\u001b[1;32m     37\u001b[0m     \u001b[0msave_features\u001b[0m\u001b[0;34m(\u001b[0m\u001b[0mX\u001b[0m\u001b[0;34m,\u001b[0m \u001b[0my\u001b[0m\u001b[0;34m,\u001b[0m \u001b[0moutput_file\u001b[0m\u001b[0;34m)\u001b[0m\u001b[0;34m\u001b[0m\u001b[0;34m\u001b[0m\u001b[0m\n\u001b[1;32m     38\u001b[0m \u001b[0;32mif\u001b[0m \u001b[0m__name__\u001b[0m \u001b[0;34m==\u001b[0m \u001b[0;34m\"__main__\"\u001b[0m\u001b[0;34m:\u001b[0m\u001b[0;34m\u001b[0m\u001b[0;34m\u001b[0m\u001b[0m\n\u001b[0;32m---> 39\u001b[0;31m     \u001b[0mmain\u001b[0m\u001b[0;34m(\u001b[0m\u001b[0;34m)\u001b[0m\u001b[0;34m\u001b[0m\u001b[0;34m\u001b[0m\u001b[0m\n\u001b[0m",
            "\u001b[0;32m<ipython-input-7-311c367f9a3c>\u001b[0m in \u001b[0;36mmain\u001b[0;34m()\u001b[0m\n\u001b[1;32m     20\u001b[0m     \u001b[0moutput_file\u001b[0m \u001b[0;34m=\u001b[0m \u001b[0;34m\"features.npz\"\u001b[0m\u001b[0;34m\u001b[0m\u001b[0;34m\u001b[0m\u001b[0m\n\u001b[1;32m     21\u001b[0m     \u001b[0;31m# 第一步:筛除长度小于200个碱基的转录本序列\u001b[0m\u001b[0;34m\u001b[0m\u001b[0;34m\u001b[0m\u001b[0m\n\u001b[0;32m---> 22\u001b[0;31m     \u001b[0mfilter_sequences\u001b[0m\u001b[0;34m(\u001b[0m\u001b[0mlncrna_file\u001b[0m\u001b[0;34m,\u001b[0m \u001b[0mfiltered_lncrna_file\u001b[0m\u001b[0;34m)\u001b[0m\u001b[0;34m\u001b[0m\u001b[0;34m\u001b[0m\u001b[0m\n\u001b[0m\u001b[1;32m     23\u001b[0m     \u001b[0mfilter_sequences\u001b[0m\u001b[0;34m(\u001b[0m\u001b[0mmrna_file\u001b[0m\u001b[0;34m,\u001b[0m \u001b[0mfiltered_mrna_file\u001b[0m\u001b[0;34m)\u001b[0m\u001b[0;34m\u001b[0m\u001b[0;34m\u001b[0m\u001b[0m\n\u001b[1;32m     24\u001b[0m     \u001b[0;31m# 第二步:对mRNA序列进行筛选和预处理\u001b[0m\u001b[0;34m\u001b[0m\u001b[0;34m\u001b[0m\u001b[0m\n",
            "\u001b[0;32m<ipython-input-4-49806bef4cf5>\u001b[0m in \u001b[0;36mfilter_sequences\u001b[0;34m(input_file, output_file, min_length)\u001b[0m\n\u001b[1;32m     12\u001b[0m     \"\"\"\n\u001b[1;32m     13\u001b[0m     \u001b[0;32mwith\u001b[0m \u001b[0mopen\u001b[0m\u001b[0;34m(\u001b[0m\u001b[0moutput_file\u001b[0m\u001b[0;34m,\u001b[0m \u001b[0;34m\"w\"\u001b[0m\u001b[0;34m)\u001b[0m \u001b[0;32mas\u001b[0m \u001b[0mout_handle\u001b[0m\u001b[0;34m:\u001b[0m\u001b[0;34m\u001b[0m\u001b[0;34m\u001b[0m\u001b[0m\n\u001b[0;32m---> 14\u001b[0;31m         \u001b[0;32mfor\u001b[0m \u001b[0mrecord\u001b[0m \u001b[0;32min\u001b[0m \u001b[0mSeqIO\u001b[0m\u001b[0;34m.\u001b[0m\u001b[0mparse\u001b[0m\u001b[0;34m(\u001b[0m\u001b[0minput_file\u001b[0m\u001b[0;34m,\u001b[0m \u001b[0;34m\"fasta\"\u001b[0m\u001b[0;34m)\u001b[0m\u001b[0;34m:\u001b[0m\u001b[0;34m\u001b[0m\u001b[0;34m\u001b[0m\u001b[0m\n\u001b[0m\u001b[1;32m     15\u001b[0m             \u001b[0;32mif\u001b[0m \u001b[0mlen\u001b[0m\u001b[0;34m(\u001b[0m\u001b[0mrecord\u001b[0m\u001b[0;34m.\u001b[0m\u001b[0mseq\u001b[0m\u001b[0;34m)\u001b[0m \u001b[0;34m>=\u001b[0m \u001b[0mmin_length\u001b[0m\u001b[0;34m:\u001b[0m\u001b[0;34m\u001b[0m\u001b[0;34m\u001b[0m\u001b[0m\n\u001b[1;32m     16\u001b[0m                 \u001b[0mSeqIO\u001b[0m\u001b[0;34m.\u001b[0m\u001b[0mwrite\u001b[0m\u001b[0;34m(\u001b[0m\u001b[0mrecord\u001b[0m\u001b[0;34m,\u001b[0m \u001b[0mout_handle\u001b[0m\u001b[0;34m,\u001b[0m \u001b[0;34m\"fasta\"\u001b[0m\u001b[0;34m)\u001b[0m\u001b[0;34m\u001b[0m\u001b[0;34m\u001b[0m\u001b[0m\n",
            "\u001b[0;32m/usr/local/lib/python3.10/dist-packages/Bio/SeqIO/__init__.py\u001b[0m in \u001b[0;36mparse\u001b[0;34m(handle, format, alphabet)\u001b[0m\n\u001b[1;32m    611\u001b[0m     \u001b[0miterator_generator\u001b[0m \u001b[0;34m=\u001b[0m \u001b[0m_FormatToIterator\u001b[0m\u001b[0;34m.\u001b[0m\u001b[0mget\u001b[0m\u001b[0;34m(\u001b[0m\u001b[0mformat\u001b[0m\u001b[0;34m)\u001b[0m\u001b[0;34m\u001b[0m\u001b[0;34m\u001b[0m\u001b[0m\n\u001b[1;32m    612\u001b[0m     \u001b[0;32mif\u001b[0m \u001b[0miterator_generator\u001b[0m\u001b[0;34m:\u001b[0m\u001b[0;34m\u001b[0m\u001b[0;34m\u001b[0m\u001b[0m\n\u001b[0;32m--> 613\u001b[0;31m         \u001b[0;32mreturn\u001b[0m \u001b[0miterator_generator\u001b[0m\u001b[0;34m(\u001b[0m\u001b[0mhandle\u001b[0m\u001b[0;34m)\u001b[0m\u001b[0;34m\u001b[0m\u001b[0;34m\u001b[0m\u001b[0m\n\u001b[0m\u001b[1;32m    614\u001b[0m     \u001b[0;32mif\u001b[0m \u001b[0mformat\u001b[0m \u001b[0;32min\u001b[0m \u001b[0mAlignIO\u001b[0m\u001b[0;34m.\u001b[0m\u001b[0m_FormatToIterator\u001b[0m\u001b[0;34m:\u001b[0m\u001b[0;34m\u001b[0m\u001b[0;34m\u001b[0m\u001b[0m\n\u001b[1;32m    615\u001b[0m         \u001b[0;31m# Use Bio.AlignIO to read in the alignments\u001b[0m\u001b[0;34m\u001b[0m\u001b[0;34m\u001b[0m\u001b[0m\n",
            "\u001b[0;32m/usr/local/lib/python3.10/dist-packages/Bio/SeqIO/FastaIO.py\u001b[0m in \u001b[0;36m__init__\u001b[0;34m(self, source, alphabet)\u001b[0m\n\u001b[1;32m    188\u001b[0m         \u001b[0;32mif\u001b[0m \u001b[0malphabet\u001b[0m \u001b[0;32mis\u001b[0m \u001b[0;32mnot\u001b[0m \u001b[0;32mNone\u001b[0m\u001b[0;34m:\u001b[0m\u001b[0;34m\u001b[0m\u001b[0;34m\u001b[0m\u001b[0m\n\u001b[1;32m    189\u001b[0m             \u001b[0;32mraise\u001b[0m \u001b[0mValueError\u001b[0m\u001b[0;34m(\u001b[0m\u001b[0;34m\"The alphabet argument is no longer supported\"\u001b[0m\u001b[0;34m)\u001b[0m\u001b[0;34m\u001b[0m\u001b[0;34m\u001b[0m\u001b[0m\n\u001b[0;32m--> 190\u001b[0;31m         \u001b[0msuper\u001b[0m\u001b[0;34m(\u001b[0m\u001b[0;34m)\u001b[0m\u001b[0;34m.\u001b[0m\u001b[0m__init__\u001b[0m\u001b[0;34m(\u001b[0m\u001b[0msource\u001b[0m\u001b[0;34m,\u001b[0m \u001b[0mmode\u001b[0m\u001b[0;34m=\u001b[0m\u001b[0;34m\"t\"\u001b[0m\u001b[0;34m,\u001b[0m \u001b[0mfmt\u001b[0m\u001b[0;34m=\u001b[0m\u001b[0;34m\"Fasta\"\u001b[0m\u001b[0;34m)\u001b[0m\u001b[0;34m\u001b[0m\u001b[0;34m\u001b[0m\u001b[0m\n\u001b[0m\u001b[1;32m    191\u001b[0m \u001b[0;34m\u001b[0m\u001b[0m\n\u001b[1;32m    192\u001b[0m     \u001b[0;32mdef\u001b[0m \u001b[0mparse\u001b[0m\u001b[0;34m(\u001b[0m\u001b[0mself\u001b[0m\u001b[0;34m,\u001b[0m \u001b[0mhandle\u001b[0m\u001b[0;34m)\u001b[0m\u001b[0;34m:\u001b[0m\u001b[0;34m\u001b[0m\u001b[0;34m\u001b[0m\u001b[0m\n",
            "\u001b[0;32m/usr/local/lib/python3.10/dist-packages/Bio/SeqIO/Interfaces.py\u001b[0m in \u001b[0;36m__init__\u001b[0;34m(self, source, alphabet, mode, fmt)\u001b[0m\n\u001b[1;32m     56\u001b[0m             \u001b[0;32mraise\u001b[0m \u001b[0mValueError\u001b[0m\u001b[0;34m(\u001b[0m\u001b[0;34m\"The alphabet argument is no longer supported\"\u001b[0m\u001b[0;34m)\u001b[0m\u001b[0;34m\u001b[0m\u001b[0;34m\u001b[0m\u001b[0m\n\u001b[1;32m     57\u001b[0m         \u001b[0;32mif\u001b[0m \u001b[0misinstance\u001b[0m\u001b[0;34m(\u001b[0m\u001b[0msource\u001b[0m\u001b[0;34m,\u001b[0m \u001b[0m_PathLikeTypes\u001b[0m\u001b[0;34m)\u001b[0m\u001b[0;34m:\u001b[0m\u001b[0;34m\u001b[0m\u001b[0;34m\u001b[0m\u001b[0m\n\u001b[0;32m---> 58\u001b[0;31m             \u001b[0mself\u001b[0m\u001b[0;34m.\u001b[0m\u001b[0mstream\u001b[0m \u001b[0;34m=\u001b[0m \u001b[0mopen\u001b[0m\u001b[0;34m(\u001b[0m\u001b[0msource\u001b[0m\u001b[0;34m,\u001b[0m \u001b[0;34m\"r\"\u001b[0m \u001b[0;34m+\u001b[0m \u001b[0mmode\u001b[0m\u001b[0;34m)\u001b[0m\u001b[0;34m\u001b[0m\u001b[0;34m\u001b[0m\u001b[0m\n\u001b[0m\u001b[1;32m     59\u001b[0m             \u001b[0mself\u001b[0m\u001b[0;34m.\u001b[0m\u001b[0mshould_close_stream\u001b[0m \u001b[0;34m=\u001b[0m \u001b[0;32mTrue\u001b[0m\u001b[0;34m\u001b[0m\u001b[0;34m\u001b[0m\u001b[0m\n\u001b[1;32m     60\u001b[0m         \u001b[0;32melse\u001b[0m\u001b[0;34m:\u001b[0m\u001b[0;34m\u001b[0m\u001b[0;34m\u001b[0m\u001b[0m\n",
            "\u001b[0;31mFileNotFoundError\u001b[0m: [Errno 2] No such file or directory: '/content/drive/MyDrive/gencode.v38.lncRNA_transcripts.faa'"
          ]
        }
      ],
      "source": []
    },
    {
      "cell_type": "code",
      "execution_count": null,
      "id": "8d8ad235",
      "metadata": {
        "id": "8d8ad235"
      },
      "outputs": [],
      "source": []
    }
  ],
  "metadata": {
    "kernelspec": {
      "display_name": "Python 3",
      "name": "python3"
    },
    "language_info": {
      "codemirror_mode": {
        "name": "ipython",
        "version": 3
      },
      "file_extension": ".py",
      "mimetype": "text/x-python",
      "name": "python",
      "nbconvert_exporter": "python",
      "pygments_lexer": "ipython3",
      "version": "3.11.4"
    },
    "colab": {
      "provenance": [],
      "gpuType": "T4",
      "include_colab_link": true
    },
    "accelerator": "GPU"
  },
  "nbformat": 4,
  "nbformat_minor": 5
}